{
 "cells": [
  {
   "cell_type": "code",
   "execution_count": 1,
   "id": "4ae20cd5",
   "metadata": {},
   "outputs": [],
   "source": [
    "#library\n",
    "\n",
    "import pandas as pd\n",
    "import numpy as np\n",
    "import matplotlib.pyplot as plt\n",
    "import seaborn as sns\n",
    "\n",
    "#models\n",
    "\n",
    "from sklearn.model_selection import train_test_split\n",
    "from sklearn.ensemble import RandomForestClassifier\n",
    "from sklearn.neighbors import KNeighborsClassifier\n",
    "from sklearn.tree import DecisionTreeClassifier\n",
    "from sklearn.svm import SVC\n",
    "from sklearn.neural_network import MLPClassifier\n",
    "\n",
    "#metrix representation\n",
    "\n",
    "from sklearn import metrics\n",
    "from sklearn.metrics import accuracy_score, confusion_matrix, precision_score, recall_score, f1_score , classification_report\n",
    "from sklearn.metrics import precision_recall_curve\n",
    "from sklearn.metrics import average_precision_score\n",
    "from sklearn.metrics import roc_curve\n",
    "from sklearn.metrics import auc\n"
   ]
  },
  {
   "cell_type": "code",
   "execution_count": 2,
   "id": "28ca8771",
   "metadata": {},
   "outputs": [],
   "source": [
    "# loading the Data\n",
    "\n",
    "data = pd.read_csv(\"kidney_disease.csv\")"
   ]
  },
  {
   "cell_type": "code",
   "execution_count": 3,
   "id": "a3886134",
   "metadata": {},
   "outputs": [
    {
     "data": {
      "text/html": [
       "<div>\n",
       "<style scoped>\n",
       "    .dataframe tbody tr th:only-of-type {\n",
       "        vertical-align: middle;\n",
       "    }\n",
       "\n",
       "    .dataframe tbody tr th {\n",
       "        vertical-align: top;\n",
       "    }\n",
       "\n",
       "    .dataframe thead th {\n",
       "        text-align: right;\n",
       "    }\n",
       "</style>\n",
       "<table border=\"1\" class=\"dataframe\">\n",
       "  <thead>\n",
       "    <tr style=\"text-align: right;\">\n",
       "      <th></th>\n",
       "      <th>id</th>\n",
       "      <th>age</th>\n",
       "      <th>bp</th>\n",
       "      <th>sg</th>\n",
       "      <th>al</th>\n",
       "      <th>su</th>\n",
       "      <th>rbc</th>\n",
       "      <th>pc</th>\n",
       "      <th>pcc</th>\n",
       "      <th>ba</th>\n",
       "      <th>...</th>\n",
       "      <th>pcv</th>\n",
       "      <th>wc</th>\n",
       "      <th>rc</th>\n",
       "      <th>htn</th>\n",
       "      <th>dm</th>\n",
       "      <th>cad</th>\n",
       "      <th>appet</th>\n",
       "      <th>pe</th>\n",
       "      <th>ane</th>\n",
       "      <th>classification</th>\n",
       "    </tr>\n",
       "  </thead>\n",
       "  <tbody>\n",
       "    <tr>\n",
       "      <th>0</th>\n",
       "      <td>0</td>\n",
       "      <td>48.0</td>\n",
       "      <td>80.0</td>\n",
       "      <td>1.020</td>\n",
       "      <td>1.0</td>\n",
       "      <td>0.0</td>\n",
       "      <td>NaN</td>\n",
       "      <td>normal</td>\n",
       "      <td>notpresent</td>\n",
       "      <td>notpresent</td>\n",
       "      <td>...</td>\n",
       "      <td>44</td>\n",
       "      <td>7800</td>\n",
       "      <td>5.2</td>\n",
       "      <td>yes</td>\n",
       "      <td>yes</td>\n",
       "      <td>no</td>\n",
       "      <td>good</td>\n",
       "      <td>no</td>\n",
       "      <td>no</td>\n",
       "      <td>ckd</td>\n",
       "    </tr>\n",
       "    <tr>\n",
       "      <th>1</th>\n",
       "      <td>1</td>\n",
       "      <td>7.0</td>\n",
       "      <td>50.0</td>\n",
       "      <td>1.020</td>\n",
       "      <td>4.0</td>\n",
       "      <td>0.0</td>\n",
       "      <td>NaN</td>\n",
       "      <td>normal</td>\n",
       "      <td>notpresent</td>\n",
       "      <td>notpresent</td>\n",
       "      <td>...</td>\n",
       "      <td>38</td>\n",
       "      <td>6000</td>\n",
       "      <td>NaN</td>\n",
       "      <td>no</td>\n",
       "      <td>no</td>\n",
       "      <td>no</td>\n",
       "      <td>good</td>\n",
       "      <td>no</td>\n",
       "      <td>no</td>\n",
       "      <td>ckd</td>\n",
       "    </tr>\n",
       "    <tr>\n",
       "      <th>2</th>\n",
       "      <td>2</td>\n",
       "      <td>62.0</td>\n",
       "      <td>80.0</td>\n",
       "      <td>1.010</td>\n",
       "      <td>2.0</td>\n",
       "      <td>3.0</td>\n",
       "      <td>normal</td>\n",
       "      <td>normal</td>\n",
       "      <td>notpresent</td>\n",
       "      <td>notpresent</td>\n",
       "      <td>...</td>\n",
       "      <td>31</td>\n",
       "      <td>7500</td>\n",
       "      <td>NaN</td>\n",
       "      <td>no</td>\n",
       "      <td>yes</td>\n",
       "      <td>no</td>\n",
       "      <td>poor</td>\n",
       "      <td>no</td>\n",
       "      <td>yes</td>\n",
       "      <td>ckd</td>\n",
       "    </tr>\n",
       "    <tr>\n",
       "      <th>3</th>\n",
       "      <td>3</td>\n",
       "      <td>48.0</td>\n",
       "      <td>70.0</td>\n",
       "      <td>1.005</td>\n",
       "      <td>4.0</td>\n",
       "      <td>0.0</td>\n",
       "      <td>normal</td>\n",
       "      <td>abnormal</td>\n",
       "      <td>present</td>\n",
       "      <td>notpresent</td>\n",
       "      <td>...</td>\n",
       "      <td>32</td>\n",
       "      <td>6700</td>\n",
       "      <td>3.9</td>\n",
       "      <td>yes</td>\n",
       "      <td>no</td>\n",
       "      <td>no</td>\n",
       "      <td>poor</td>\n",
       "      <td>yes</td>\n",
       "      <td>yes</td>\n",
       "      <td>ckd</td>\n",
       "    </tr>\n",
       "    <tr>\n",
       "      <th>4</th>\n",
       "      <td>4</td>\n",
       "      <td>51.0</td>\n",
       "      <td>80.0</td>\n",
       "      <td>1.010</td>\n",
       "      <td>2.0</td>\n",
       "      <td>0.0</td>\n",
       "      <td>normal</td>\n",
       "      <td>normal</td>\n",
       "      <td>notpresent</td>\n",
       "      <td>notpresent</td>\n",
       "      <td>...</td>\n",
       "      <td>35</td>\n",
       "      <td>7300</td>\n",
       "      <td>4.6</td>\n",
       "      <td>no</td>\n",
       "      <td>no</td>\n",
       "      <td>no</td>\n",
       "      <td>good</td>\n",
       "      <td>no</td>\n",
       "      <td>no</td>\n",
       "      <td>ckd</td>\n",
       "    </tr>\n",
       "  </tbody>\n",
       "</table>\n",
       "<p>5 rows × 26 columns</p>\n",
       "</div>"
      ],
      "text/plain": [
       "   id   age    bp     sg   al   su     rbc        pc         pcc          ba  \\\n",
       "0   0  48.0  80.0  1.020  1.0  0.0     NaN    normal  notpresent  notpresent   \n",
       "1   1   7.0  50.0  1.020  4.0  0.0     NaN    normal  notpresent  notpresent   \n",
       "2   2  62.0  80.0  1.010  2.0  3.0  normal    normal  notpresent  notpresent   \n",
       "3   3  48.0  70.0  1.005  4.0  0.0  normal  abnormal     present  notpresent   \n",
       "4   4  51.0  80.0  1.010  2.0  0.0  normal    normal  notpresent  notpresent   \n",
       "\n",
       "   ...  pcv    wc   rc  htn   dm  cad appet   pe  ane classification  \n",
       "0  ...   44  7800  5.2  yes  yes   no  good   no   no            ckd  \n",
       "1  ...   38  6000  NaN   no   no   no  good   no   no            ckd  \n",
       "2  ...   31  7500  NaN   no  yes   no  poor   no  yes            ckd  \n",
       "3  ...   32  6700  3.9  yes   no   no  poor  yes  yes            ckd  \n",
       "4  ...   35  7300  4.6   no   no   no  good   no   no            ckd  \n",
       "\n",
       "[5 rows x 26 columns]"
      ]
     },
     "execution_count": 3,
     "metadata": {},
     "output_type": "execute_result"
    }
   ],
   "source": [
    "data.head()"
   ]
  },
  {
   "cell_type": "markdown",
   "id": "1a3c8689",
   "metadata": {},
   "source": [
    "## Data Set Information:\n",
    "\n",
    "### We use the following representation to collect the dataset\n",
    "- age - age\n",
    "- bp - blood pressure ( 40 to 180 )\n",
    "- sg - specific gravity ( between 1.002 and 1.035 )\n",
    "- al - albumin ( between 1 to 5 )\n",
    "- su - sugar ( between 1 to 5 )\n",
    "- rbc - red blood cells (normal,abnormal)\n",
    "- pc - pus cell (normal,abnormal)\n",
    "- pcc - pus cell clumps (present,notpresent)\n",
    "- ba - bacteria (present,notpresent)\n",
    "- bgr - blood glucose random (<140 mg/dL to >200 mg/dL)\n",
    "- bu - blood urea ( 6 - 23 mgs/dl ) \n",
    "- sc - serum creatinine ( 0.4 to 76 ) \n",
    "- sod - sodium ( 4 to 163 )\n",
    "- pot - potassium ( 2.5 to 47 )\n",
    "- hemo - hemoglobin (3.1 to 17.8)\n",
    "- pcv - packed cell volume ( 9 to 54 ) \n",
    "- wc - white blood cell count ( 2200 to 26400 )\n",
    "- rc - red blood cell count ( 2.1 to 8 )\n",
    "- htn - hypertension (yes,no)\n",
    "- dm - diabetes mellitus (yes,no)\n",
    "- cad - coronary artery disease (yes,no)\n",
    "- appet - appetite (good,poor)\n",
    "- pe - pedal edema (yes,no)\n",
    "- ane - anemia (yes,no)\n",
    "- class - class (ckd,notckd)\n",
    "\n"
   ]
  },
  {
   "cell_type": "markdown",
   "id": "0e1d68ca",
   "metadata": {},
   "source": [
    "## Attribute Information:\n",
    "\n",
    "### ( 11 numeric ,14 nominal)\n",
    "\n",
    "- 1.Age(numerical) = age in years\n",
    "\n",
    "- 2.Blood Pressure(numerical) = bp in mm/Hg\n",
    "\n",
    "- 3.Specific Gravity(nominal) = sg - (1.005,1.010,1.015,1.020,1.025)\n",
    "\n",
    "- 4.Albumin(nominal) = al - (0,1,2,3,4,5)\n",
    "\n",
    "- 5.Sugar(nominal) = su - (0,1,2,3,4,5)\n",
    "\n",
    "- 6.Red Blood Cells(nominal) = rbc - (normal,abnormal)\n",
    "\n",
    "- 7.Pus Cell (nominal) = pc - (normal,abnormal)\n",
    "\n",
    "- 8.Pus Cell clumps(nominal) = pcc - (present,notpresent)\n",
    "\n",
    "- 9.Bacteria(nominal) = ba - (present,notpresent)\n",
    "\n",
    "- 10.Blood Glucose Random(numerical) =  <140 mg/dL to >200 mg/dL \n",
    "\n",
    "- 11.Blood Urea(numerical) = bu in mgs/dl\n",
    "\n",
    "- 12.Serum Creatinine(numerical) = sc in mgs/dl\n",
    "\n",
    "- 13.Sodium(numerical) = sod in mEq/L\n",
    "\n",
    "- 14.Potassium(numerical) = pot in mEq/L\n",
    "\n",
    "- 15.Hemoglobin(numerical) = hemo in gms\n",
    "\n",
    "- 16.Packed Cell Volume(numerical)\n",
    "\n",
    "- 17.White Blood Cell Count(numerical) = wc in cells/cumm\n",
    "\n",
    "- 18.Red Blood Cell Count(numerical) = rc in millions/cmm\n",
    "\n",
    "- 19.Hypertension(nominal) = htn - (yes,no)\n",
    "\n",
    "- 20.Diabetes Mellitus(nominal) = dm - (yes,no)\n",
    "\n",
    "- 21.Coronary Artery Disease(nominal) = cad - (yes,no)\n",
    "\n",
    "- 22.Appetite(nominal) = appet - (good,poor)\n",
    "\n",
    "- 23.Pedal Edema(nominal) = pe - (yes,no)\n",
    "\n",
    "- 24.Anemia(nominal) = ane - (yes,no)\n",
    "\n",
    "- 25.Class (nominal) = class - (ckd,notckd)- "
   ]
  },
  {
   "cell_type": "code",
   "execution_count": 4,
   "id": "20ffee19",
   "metadata": {},
   "outputs": [],
   "source": [
    "# Dropping the not necessary column\n",
    "\n",
    "data = data.drop(columns=['id'])"
   ]
  },
  {
   "cell_type": "code",
   "execution_count": 5,
   "id": "26b3e68b",
   "metadata": {},
   "outputs": [
    {
     "name": "stdout",
     "output_type": "stream",
     "text": [
      "<class 'pandas.core.frame.DataFrame'>\n",
      "RangeIndex: 400 entries, 0 to 399\n",
      "Data columns (total 25 columns):\n",
      " #   Column          Non-Null Count  Dtype  \n",
      "---  ------          --------------  -----  \n",
      " 0   age             391 non-null    float64\n",
      " 1   bp              388 non-null    float64\n",
      " 2   sg              353 non-null    float64\n",
      " 3   al              354 non-null    float64\n",
      " 4   su              351 non-null    float64\n",
      " 5   rbc             248 non-null    object \n",
      " 6   pc              335 non-null    object \n",
      " 7   pcc             396 non-null    object \n",
      " 8   ba              396 non-null    object \n",
      " 9   bgr             356 non-null    float64\n",
      " 10  bu              381 non-null    float64\n",
      " 11  sc              383 non-null    float64\n",
      " 12  sod             313 non-null    float64\n",
      " 13  pot             312 non-null    float64\n",
      " 14  hemo            348 non-null    float64\n",
      " 15  pcv             330 non-null    object \n",
      " 16  wc              295 non-null    object \n",
      " 17  rc              270 non-null    object \n",
      " 18  htn             398 non-null    object \n",
      " 19  dm              398 non-null    object \n",
      " 20  cad             398 non-null    object \n",
      " 21  appet           399 non-null    object \n",
      " 22  pe              399 non-null    object \n",
      " 23  ane             399 non-null    object \n",
      " 24  classification  400 non-null    object \n",
      "dtypes: float64(11), object(14)\n",
      "memory usage: 78.2+ KB\n"
     ]
    }
   ],
   "source": [
    "data.info()"
   ]
  },
  {
   "cell_type": "code",
   "execution_count": 6,
   "id": "5b075a4c",
   "metadata": {},
   "outputs": [
    {
     "data": {
      "text/plain": [
       "array(['44', '38', '31', '32', '35', '39', '36', '33', '29', '28', nan,\n",
       "       '16', '24', '37', '30', '34', '40', '45', '27', '48', '\\t?', '52',\n",
       "       '14', '22', '18', '42', '17', '46', '23', '19', '25', '41', '26',\n",
       "       '15', '21', '43', '20', '\\t43', '47', '9', '49', '50', '53', '51',\n",
       "       '54'], dtype=object)"
      ]
     },
     "execution_count": 6,
     "metadata": {},
     "output_type": "execute_result"
    }
   ],
   "source": [
    "#Finding the Unique Values \n",
    "\n",
    "data['pcv'].unique()"
   ]
  },
  {
   "cell_type": "code",
   "execution_count": 7,
   "id": "c1a51ecf",
   "metadata": {},
   "outputs": [
    {
     "data": {
      "text/plain": [
       "array(['7800', '6000', '7500', '6700', '7300', nan, '6900', '9600',\n",
       "       '12100', '4500', '12200', '11000', '3800', '11400', '5300', '9200',\n",
       "       '6200', '8300', '8400', '10300', '9800', '9100', '7900', '6400',\n",
       "       '8600', '18900', '21600', '4300', '8500', '11300', '7200', '7700',\n",
       "       '14600', '6300', '\\t6200', '7100', '11800', '9400', '5500', '5800',\n",
       "       '13200', '12500', '5600', '7000', '11900', '10400', '10700',\n",
       "       '12700', '6800', '6500', '13600', '10200', '9000', '14900', '8200',\n",
       "       '15200', '5000', '16300', '12400', '\\t8400', '10500', '4200',\n",
       "       '4700', '10900', '8100', '9500', '2200', '12800', '11200', '19100',\n",
       "       '\\t?', '12300', '16700', '2600', '26400', '8800', '7400', '4900',\n",
       "       '8000', '12000', '15700', '4100', '5700', '11500', '5400', '10800',\n",
       "       '9900', '5200', '5900', '9300', '9700', '5100', '6600'],\n",
       "      dtype=object)"
      ]
     },
     "execution_count": 7,
     "metadata": {},
     "output_type": "execute_result"
    }
   ],
   "source": [
    "data['wc'].unique()"
   ]
  },
  {
   "cell_type": "code",
   "execution_count": 8,
   "id": "981444c1",
   "metadata": {},
   "outputs": [
    {
     "data": {
      "text/plain": [
       "array(['5.2', nan, '3.9', '4.6', '4.4', '5', '4', '3.7', '3.8', '3.4',\n",
       "       '2.6', '2.8', '4.3', '3.2', '3.6', '4.1', '4.9', '2.5', '4.2',\n",
       "       '4.5', '3.1', '4.7', '3.5', '6', '2.1', '5.6', '2.3', '2.9', '2.7',\n",
       "       '8', '3.3', '3', '2.4', '4.8', '\\t?', '5.4', '6.1', '6.2', '6.3',\n",
       "       '5.1', '5.8', '5.5', '5.3', '6.4', '5.7', '5.9', '6.5'],\n",
       "      dtype=object)"
      ]
     },
     "execution_count": 8,
     "metadata": {},
     "output_type": "execute_result"
    }
   ],
   "source": [
    "data['rc'].unique()"
   ]
  },
  {
   "cell_type": "code",
   "execution_count": 9,
   "id": "d40ae166",
   "metadata": {},
   "outputs": [
    {
     "name": "stdout",
     "output_type": "stream",
     "text": [
      "<class 'pandas.core.frame.DataFrame'>\n",
      "RangeIndex: 400 entries, 0 to 399\n",
      "Data columns (total 25 columns):\n",
      " #   Column          Non-Null Count  Dtype  \n",
      "---  ------          --------------  -----  \n",
      " 0   age             391 non-null    float64\n",
      " 1   bp              388 non-null    float64\n",
      " 2   sg              353 non-null    float64\n",
      " 3   al              354 non-null    float64\n",
      " 4   su              351 non-null    float64\n",
      " 5   rbc             248 non-null    object \n",
      " 6   pc              335 non-null    object \n",
      " 7   pcc             396 non-null    object \n",
      " 8   ba              396 non-null    object \n",
      " 9   bgr             356 non-null    float64\n",
      " 10  bu              381 non-null    float64\n",
      " 11  sc              383 non-null    float64\n",
      " 12  sod             313 non-null    float64\n",
      " 13  pot             312 non-null    float64\n",
      " 14  hemo            348 non-null    float64\n",
      " 15  pcv             330 non-null    object \n",
      " 16  wc              295 non-null    object \n",
      " 17  rc              270 non-null    object \n",
      " 18  htn             398 non-null    object \n",
      " 19  dm              398 non-null    object \n",
      " 20  cad             398 non-null    object \n",
      " 21  appet           399 non-null    object \n",
      " 22  pe              399 non-null    object \n",
      " 23  ane             399 non-null    object \n",
      " 24  classification  400 non-null    object \n",
      "dtypes: float64(11), object(14)\n",
      "memory usage: 78.2+ KB\n"
     ]
    }
   ],
   "source": [
    "data[['pcv','rc']] = data[['pcv','rc']].replace(to_replace = {'\\t?':1.0})\n",
    "data[['wc']] = data[['wc']].replace(to_replace = {'\\t6200':6200,'\\t8400':8400,'\\t?':1.0})\n",
    "\n",
    "data.info()"
   ]
  },
  {
   "cell_type": "code",
   "execution_count": 10,
   "id": "3bc1c233",
   "metadata": {},
   "outputs": [
    {
     "data": {
      "text/plain": [
       "age                 9\n",
       "bp                 12\n",
       "sg                 47\n",
       "al                 46\n",
       "su                 49\n",
       "rbc               152\n",
       "pc                 65\n",
       "pcc                 4\n",
       "ba                  4\n",
       "bgr                44\n",
       "bu                 19\n",
       "sc                 17\n",
       "sod                87\n",
       "pot                88\n",
       "hemo               52\n",
       "pcv                70\n",
       "wc                105\n",
       "rc                130\n",
       "htn                 2\n",
       "dm                  2\n",
       "cad                 2\n",
       "appet               1\n",
       "pe                  1\n",
       "ane                 1\n",
       "classification      0\n",
       "dtype: int64"
      ]
     },
     "execution_count": 10,
     "metadata": {},
     "output_type": "execute_result"
    }
   ],
   "source": [
    "#checking the null values \n",
    "data.isna().sum()"
   ]
  },
  {
   "cell_type": "code",
   "execution_count": 11,
   "id": "1f773ae3",
   "metadata": {},
   "outputs": [
    {
     "data": {
      "text/plain": [
       "Index(['age', 'bp', 'sg', 'al', 'su', 'rbc', 'pc', 'pcc', 'ba', 'bgr', 'bu',\n",
       "       'sc', 'sod', 'pot', 'hemo', 'pcv', 'wc', 'rc', 'htn', 'dm', 'cad',\n",
       "       'appet', 'pe', 'ane', 'classification'],\n",
       "      dtype='object')"
      ]
     },
     "execution_count": 11,
     "metadata": {},
     "output_type": "execute_result"
    }
   ],
   "source": [
    "data.columns"
   ]
  },
  {
   "cell_type": "markdown",
   "id": "a7adacb4",
   "metadata": {},
   "source": [
    "Mean — When the data has no outliers. Mean is the average value. Mean will be affected by outliers.\n",
    "\n",
    "Median — When the data has more outliers, it's best to replace them with the median value. Median is the middle value.\n",
    "\n",
    "Mode — Most common value."
   ]
  },
  {
   "cell_type": "code",
   "execution_count": 12,
   "id": "a695cd1d",
   "metadata": {},
   "outputs": [
    {
     "data": {
      "image/png": "[encoded data removed]",
      "text/plain": [
       "<Figure size 432x288 with 1 Axes>"
      ]
     },
     "metadata": {
      "needs_background": "light"
     },
     "output_type": "display_data"
    },
    {
     "data": {
      "image/png": "[encoded data removed]",
      "text/plain": [
       "<Figure size 432x288 with 1 Axes>"
      ]
     },
     "metadata": {
      "needs_background": "light"
     },
     "output_type": "display_data"
    },
    {
     "data": {
      "image/png": "[encoded data removed]",
      "text/plain": [
       "<Figure size 432x288 with 1 Axes>"
      ]
     },
     "metadata": {
      "needs_background": "light"
     },
     "output_type": "display_data"
    },
    {
     "data": {
      "image/png": "[encoded data removed]",
      "text/plain": [
       "<Figure size 432x288 with 1 Axes>"
      ]
     },
     "metadata": {
      "needs_background": "light"
     },
     "output_type": "display_data"
    },
    {
     "data": {
      "image/png": "[encoded data removed]",
      "text/plain": [
       "<Figure size 432x288 with 1 Axes>"
      ]
     },
     "metadata": {
      "needs_background": "light"
     },
     "output_type": "display_data"
    },
    {
     "data": {
      "image/png": "[encoded data removed]",
      "text/plain": [
       "<Figure size 432x288 with 1 Axes>"
      ]
     },
     "metadata": {
      "needs_background": "light"
     },
     "output_type": "display_data"
    },
    {
     "data": {
      "image/png": "[encoded data removed]",
      "text/plain": [
       "<Figure size 432x288 with 1 Axes>"
      ]
     },
     "metadata": {
      "needs_background": "light"
     },
     "output_type": "display_data"
    },
    {
     "data": {
      "image/png": "[encoded data removed]",
      "text/plain": [
       "<Figure size 432x288 with 1 Axes>"
      ]
     },
     "metadata": {
      "needs_background": "light"
     },
     "output_type": "display_data"
    },
    {
     "data": {
      "image/png": "[encoded data removed]",
      "text/plain": [
       "<Figure size 432x288 with 1 Axes>"
      ]
     },
     "metadata": {
      "needs_background": "light"
     },
     "output_type": "display_data"
    },
    {
     "data": {
      "image/png": "[encoded data removed]",
      "text/plain": [
       "<Figure size 432x288 with 1 Axes>"
      ]
     },
     "metadata": {
      "needs_background": "light"
     },
     "output_type": "display_data"
    },
    {
     "data": {
      "image/png": "[encoded data removed]",
      "text/plain": [
       "<Figure size 432x288 with 1 Axes>"
      ]
     },
     "metadata": {
      "needs_background": "light"
     },
     "output_type": "display_data"
    }
   ],
   "source": [
    "list = ['age', 'bp', 'sg', 'al', 'su',  'bgr', 'bu',\n",
    "       'sc', 'sod', 'pot', 'hemo']\n",
    "for i in list:\n",
    "    sns.boxplot(x=data[i])\n",
    "    plt.show()"
   ]
  },
  {
   "cell_type": "code",
   "execution_count": 13,
   "id": "5fc863b1",
   "metadata": {},
   "outputs": [],
   "source": [
    "def cln(col, val):\n",
    "    if val == 0:\n",
    "        data[col] = data[col].fillna(data[col].mean())\n",
    "    elif val == 1:\n",
    "        data[col] = data[col].fillna(data[col].median())\n",
    "    elif val == 2:\n",
    "        data[col] = data[col].fillna(data[col].mode()[0])\n",
    "        \n",
    "    "
   ]
  },
  {
   "cell_type": "code",
   "execution_count": 14,
   "id": "30200f5c",
   "metadata": {},
   "outputs": [],
   "source": [
    "cln(\"age\", 0)\n",
    "cln(\"hemo\", 0)\n",
    "cln(\"sg\", 0)\n",
    "cln(\"al\", 0)\n",
    "cln(\"sod\", 0)\n",
    "\n",
    "list_value = [\"su\",\"bgr\", \"bu\", \"sc\",\"bp\",\"pot\"]\n",
    "for i in list_value:\n",
    "    cln(i, 1)\n",
    "\n",
    "list_val = [ 'rbc', 'pc', 'pcc', 'ba',  'pcv', 'wc', 'rc', 'htn', 'dm', 'cad',\n",
    "       'appet', 'pe', 'ane', 'classification']\n",
    "for i in list_val:\n",
    "    cln(i, 2)"
   ]
  },
  {
   "cell_type": "code",
   "execution_count": 15,
   "id": "e075e4d6",
   "metadata": {},
   "outputs": [
    {
     "data": {
      "text/plain": [
       "age               0\n",
       "bp                0\n",
       "sg                0\n",
       "al                0\n",
       "su                0\n",
       "rbc               0\n",
       "pc                0\n",
       "pcc               0\n",
       "ba                0\n",
       "bgr               0\n",
       "bu                0\n",
       "sc                0\n",
       "sod               0\n",
       "pot               0\n",
       "hemo              0\n",
       "pcv               0\n",
       "wc                0\n",
       "rc                0\n",
       "htn               0\n",
       "dm                0\n",
       "cad               0\n",
       "appet             0\n",
       "pe                0\n",
       "ane               0\n",
       "classification    0\n",
       "dtype: int64"
      ]
     },
     "execution_count": 15,
     "metadata": {},
     "output_type": "execute_result"
    }
   ],
   "source": [
    "data.isnull().sum()"
   ]
  },
  {
   "cell_type": "code",
   "execution_count": 16,
   "id": "dce28c3d",
   "metadata": {},
   "outputs": [
    {
     "data": {
      "text/plain": [
       "array([48.        ,  7.        , 62.        , 51.        , 60.        ,\n",
       "       68.        , 24.        , 52.        , 53.        , 50.        ,\n",
       "       63.        , 40.        , 47.        , 61.        , 21.        ,\n",
       "       42.        , 75.        , 69.        , 51.48337596, 73.        ,\n",
       "       70.        , 65.        , 76.        , 72.        , 82.        ,\n",
       "       46.        , 45.        , 35.        , 54.        , 11.        ,\n",
       "       59.        , 67.        , 15.        , 55.        , 44.        ,\n",
       "       26.        , 64.        , 56.        ,  5.        , 74.        ,\n",
       "       38.        , 58.        , 71.        , 34.        , 17.        ,\n",
       "       12.        , 43.        , 41.        , 57.        ,  8.        ,\n",
       "       39.        , 66.        , 81.        , 14.        , 27.        ,\n",
       "       83.        , 30.        ,  4.        ,  3.        ,  6.        ,\n",
       "       32.        , 80.        , 49.        , 90.        , 78.        ,\n",
       "       19.        ,  2.        , 33.        , 36.        , 37.        ,\n",
       "       23.        , 25.        , 20.        , 29.        , 28.        ,\n",
       "       22.        , 79.        ])"
      ]
     },
     "execution_count": 16,
     "metadata": {},
     "output_type": "execute_result"
    }
   ],
   "source": [
    "data[\"age\"].unique()"
   ]
  },
  {
   "cell_type": "markdown",
   "id": "14714853",
   "metadata": {},
   "source": [
    "**EDA**"
   ]
  },
  {
   "cell_type": "code",
   "execution_count": 17,
   "id": "df744ae1",
   "metadata": {},
   "outputs": [],
   "source": [
    "def plot_pie(column, title=\"All\"):\n",
    "    fig,axs = plt.subplots(1,1)\n",
    "    data1 = data[column].value_counts()\n",
    "    plt.pie(data1,autopct='%1.2f%%',labels=data1.index)\n",
    "    plt.title(title)\n",
    "    plt.show()\n",
    "    \n",
    "def plot_bar(column, sort=False, title=\"all\"):\n",
    "    if sort:\n",
    "        data_all = data[column].value_counts().sort_index()\n",
    "    else:\n",
    "        data_all = data[column].value_counts()\n",
    "    plt.bar(data_all.index,data_all)\n",
    "    plt.title(title)\n",
    "    plt.show()"
   ]
  },
  {
   "cell_type": "code",
   "execution_count": 18,
   "id": "c1c0d1dc",
   "metadata": {},
   "outputs": [
    {
     "data": {
      "text/html": [
       "<div>\n",
       "<style scoped>\n",
       "    .dataframe tbody tr th:only-of-type {\n",
       "        vertical-align: middle;\n",
       "    }\n",
       "\n",
       "    .dataframe tbody tr th {\n",
       "        vertical-align: top;\n",
       "    }\n",
       "\n",
       "    .dataframe thead th {\n",
       "        text-align: right;\n",
       "    }\n",
       "</style>\n",
       "<table border=\"1\" class=\"dataframe\">\n",
       "  <thead>\n",
       "    <tr style=\"text-align: right;\">\n",
       "      <th></th>\n",
       "      <th>age</th>\n",
       "      <th>bp</th>\n",
       "      <th>sg</th>\n",
       "      <th>al</th>\n",
       "      <th>su</th>\n",
       "      <th>rbc</th>\n",
       "      <th>pc</th>\n",
       "      <th>pcc</th>\n",
       "      <th>ba</th>\n",
       "      <th>bgr</th>\n",
       "      <th>...</th>\n",
       "      <th>pcv</th>\n",
       "      <th>wc</th>\n",
       "      <th>rc</th>\n",
       "      <th>htn</th>\n",
       "      <th>dm</th>\n",
       "      <th>cad</th>\n",
       "      <th>appet</th>\n",
       "      <th>pe</th>\n",
       "      <th>ane</th>\n",
       "      <th>classification</th>\n",
       "    </tr>\n",
       "  </thead>\n",
       "  <tbody>\n",
       "    <tr>\n",
       "      <th>0</th>\n",
       "      <td>48.0</td>\n",
       "      <td>80.0</td>\n",
       "      <td>1.02</td>\n",
       "      <td>1.0</td>\n",
       "      <td>0.0</td>\n",
       "      <td>normal</td>\n",
       "      <td>normal</td>\n",
       "      <td>notpresent</td>\n",
       "      <td>notpresent</td>\n",
       "      <td>121.0</td>\n",
       "      <td>...</td>\n",
       "      <td>44</td>\n",
       "      <td>7800</td>\n",
       "      <td>5.2</td>\n",
       "      <td>yes</td>\n",
       "      <td>yes</td>\n",
       "      <td>no</td>\n",
       "      <td>good</td>\n",
       "      <td>no</td>\n",
       "      <td>no</td>\n",
       "      <td>ckd</td>\n",
       "    </tr>\n",
       "    <tr>\n",
       "      <th>1</th>\n",
       "      <td>7.0</td>\n",
       "      <td>50.0</td>\n",
       "      <td>1.02</td>\n",
       "      <td>4.0</td>\n",
       "      <td>0.0</td>\n",
       "      <td>normal</td>\n",
       "      <td>normal</td>\n",
       "      <td>notpresent</td>\n",
       "      <td>notpresent</td>\n",
       "      <td>121.0</td>\n",
       "      <td>...</td>\n",
       "      <td>38</td>\n",
       "      <td>6000</td>\n",
       "      <td>5.2</td>\n",
       "      <td>no</td>\n",
       "      <td>no</td>\n",
       "      <td>no</td>\n",
       "      <td>good</td>\n",
       "      <td>no</td>\n",
       "      <td>no</td>\n",
       "      <td>ckd</td>\n",
       "    </tr>\n",
       "  </tbody>\n",
       "</table>\n",
       "<p>2 rows × 25 columns</p>\n",
       "</div>"
      ],
      "text/plain": [
       "    age    bp    sg   al   su     rbc      pc         pcc          ba    bgr  \\\n",
       "0  48.0  80.0  1.02  1.0  0.0  normal  normal  notpresent  notpresent  121.0   \n",
       "1   7.0  50.0  1.02  4.0  0.0  normal  normal  notpresent  notpresent  121.0   \n",
       "\n",
       "   ...  pcv    wc   rc  htn   dm cad appet  pe ane classification  \n",
       "0  ...   44  7800  5.2  yes  yes  no  good  no  no            ckd  \n",
       "1  ...   38  6000  5.2   no   no  no  good  no  no            ckd  \n",
       "\n",
       "[2 rows x 25 columns]"
      ]
     },
     "execution_count": 18,
     "metadata": {},
     "output_type": "execute_result"
    }
   ],
   "source": [
    "data.head(2)"
   ]
  },
  {
   "cell_type": "code",
   "execution_count": 19,
   "id": "714b24c2",
   "metadata": {},
   "outputs": [
    {
     "name": "stdout",
     "output_type": "stream",
     "text": [
      "<class 'pandas.core.frame.DataFrame'>\n",
      "RangeIndex: 400 entries, 0 to 399\n",
      "Data columns (total 25 columns):\n",
      " #   Column          Non-Null Count  Dtype  \n",
      "---  ------          --------------  -----  \n",
      " 0   age             400 non-null    float64\n",
      " 1   bp              400 non-null    float64\n",
      " 2   sg              400 non-null    float64\n",
      " 3   al              400 non-null    float64\n",
      " 4   su              400 non-null    float64\n",
      " 5   rbc             400 non-null    object \n",
      " 6   pc              400 non-null    object \n",
      " 7   pcc             400 non-null    object \n",
      " 8   ba              400 non-null    object \n",
      " 9   bgr             400 non-null    float64\n",
      " 10  bu              400 non-null    float64\n",
      " 11  sc              400 non-null    float64\n",
      " 12  sod             400 non-null    float64\n",
      " 13  pot             400 non-null    float64\n",
      " 14  hemo            400 non-null    float64\n",
      " 15  pcv             400 non-null    object \n",
      " 16  wc              400 non-null    object \n",
      " 17  rc              400 non-null    object \n",
      " 18  htn             400 non-null    object \n",
      " 19  dm              400 non-null    object \n",
      " 20  cad             400 non-null    object \n",
      " 21  appet           400 non-null    object \n",
      " 22  pe              400 non-null    object \n",
      " 23  ane             400 non-null    object \n",
      " 24  classification  400 non-null    object \n",
      "dtypes: float64(11), object(14)\n",
      "memory usage: 78.2+ KB\n"
     ]
    }
   ],
   "source": [
    "data.info()"
   ]
  },
  {
   "cell_type": "code",
   "execution_count": 20,
   "id": "dcbb4c19",
   "metadata": {},
   "outputs": [],
   "source": [
    "data1 = data[['age','bp','bgr','su','bu','sc','sod','pot','hemo',]]"
   ]
  },
  {
   "cell_type": "code",
   "execution_count": 21,
   "id": "5a52a054",
   "metadata": {},
   "outputs": [
    {
     "data": {
      "image/png": "[encoded data removed]",
      "text/plain": [
       "<Figure size 432x288 with 1 Axes>"
      ]
     },
     "metadata": {
      "needs_background": "light"
     },
     "output_type": "display_data"
    },
    {
     "data": {
      "image/png": "[encoded data removed]",
      "text/plain": [
       "<Figure size 432x288 with 1 Axes>"
      ]
     },
     "metadata": {
      "needs_background": "light"
     },
     "output_type": "display_data"
    },
    {
     "data": {
      "image/png": "[encoded data removed]",
      "text/plain": [
       "<Figure size 432x288 with 1 Axes>"
      ]
     },
     "metadata": {
      "needs_background": "light"
     },
     "output_type": "display_data"
    },
    {
     "data": {
      "image/png": "[encoded data removed]",
      "text/plain": [
       "<Figure size 432x288 with 1 Axes>"
      ]
     },
     "metadata": {
      "needs_background": "light"
     },
     "output_type": "display_data"
    },
    {
     "data": {
      "image/png": "[encoded data removed]",
      "text/plain": [
       "<Figure size 432x288 with 1 Axes>"
      ]
     },
     "metadata": {
      "needs_background": "light"
     },
     "output_type": "display_data"
    },
    {
     "data": {
      "image/png": "[encoded data removed]",
      "text/plain": [
       "<Figure size 432x288 with 1 Axes>"
      ]
     },
     "metadata": {
      "needs_background": "light"
     },
     "output_type": "display_data"
    },
    {
     "data": {
      "image/png": "[encoded data removed]",
      "text/plain": [
       "<Figure size 432x288 with 1 Axes>"
      ]
     },
     "metadata": {
      "needs_background": "light"
     },
     "output_type": "display_data"
    },
    {
     "data": {
      "image/png": "[encoded data removed]",
      "text/plain": [
       "<Figure size 432x288 with 1 Axes>"
      ]
     },
     "metadata": {
      "needs_background": "light"
     },
     "output_type": "display_data"
    },
    {
     "data": {
      "image/png": "[encoded data removed]",
      "text/plain": [
       "<Figure size 432x288 with 1 Axes>"
      ]
     },
     "metadata": {
      "needs_background": "light"
     },
     "output_type": "display_data"
    }
   ],
   "source": [
    "for i in data1.columns:   \n",
    "        data1.hist(i)"
   ]
  },
  {
   "cell_type": "code",
   "execution_count": 22,
   "id": "da54462d",
   "metadata": {
    "scrolled": true
   },
   "outputs": [
    {
     "data": {
      "image/png": "[encoded data removed]",
      "text/plain": [
       "<Figure size 432x288 with 1 Axes>"
      ]
     },
     "metadata": {},
     "output_type": "display_data"
    }
   ],
   "source": [
    "plot_pie('classification')"
   ]
  },
  {
   "cell_type": "code",
   "execution_count": 23,
   "id": "75744e91",
   "metadata": {},
   "outputs": [
    {
     "data": {
      "image/png": "[encoded data removed]",
      "text/plain": [
       "<Figure size 576x576 with 1 Axes>"
      ]
     },
     "metadata": {},
     "output_type": "display_data"
    }
   ],
   "source": [
    "# set plot style: grey grid in the background:\n",
    "sns.set(style=\"darkgrid\")\n",
    "\n",
    "# load dataset\n",
    "\n",
    "\n",
    "# Set the figure size\n",
    "plt.figure(figsize=(8, 8))\n",
    "\n",
    "# grouped barplot\n",
    "s1=sns.barplot(x=\"bp\", y=\"age\",hue='classification', data=data, ci=None)\n",
    "s1.set_title(\"Chronic Kidney Disease effect by age and blood pressure \")\n",
    "s1.set_xlabel(\"blood pressure\")\n",
    "s1.set_ylabel(\"Age\");"
   ]
  },
  {
   "cell_type": "code",
   "execution_count": 24,
   "id": "ee3f0a2b",
   "metadata": {},
   "outputs": [
    {
     "data": {
      "image/png": "[encoded data removed]",
      "text/plain": [
       "<Figure size 1800x1080 with 2 Axes>"
      ]
     },
     "metadata": {},
     "output_type": "display_data"
    }
   ],
   "source": [
    "#find the correlation between the features \n",
    "corr_matrix = data.corr()\n",
    "plt.figure(figsize=(25,15))\n",
    "sns.heatmap(corr_matrix,annot=True,linewidth=0.5)\n",
    "plt.title('Heatmap of kideny dialysis dataaset')\n",
    "plt.show()"
   ]
  },
  {
   "cell_type": "code",
   "execution_count": 25,
   "id": "9253c73a",
   "metadata": {},
   "outputs": [],
   "source": [
    "classes=['healthy','Un-healthy']\n",
    "\n",
    "def print_score(clf, X_train, y_train, X_test, y_test, train=True):\n",
    "    if train:\n",
    "        pred = clf.predict(X_train)\n",
    "        print(\"Train Result:\\n================================================\")\n",
    "        print(f\"Accuracy Score: {accuracy_score(y_train, pred) * 100:.2f}%\")\n",
    "        print(\"_______________________________________________\")\n",
    "        print(\"Classification Report:\", end='')\n",
    "        print(f\"\\tPrecision Score: {precision_score(y_train, pred) * 100:.2f}%\")\n",
    "       # recall=recall_score(y_train, pred) \n",
    "        print(f\"\\t\\t\\tRecall Score: {recall_score(y_train, pred) * 100:.2f}%\")\n",
    "        print(f\"\\t\\t\\tF1 score: {f1_score(y_train, pred) * 100:.2f}%\")\n",
    "        print(\"_______________________________________________\")\n",
    "        print(f\"Confusion Matrix: \\n {confusion_matrix(y_train, pred)}\\n\")\n",
    "        \n",
    "    elif train==False:\n",
    "        pred = clf.predict(X_test)\n",
    "        print(\"Test Result:\\n================================================\")        \n",
    "        print(f\"Accuracy Score: {accuracy_score(y_test, pred) * 100:.2f}%\")\n",
    "        print(\"_______________________________________________\")\n",
    "        print(\"Classification Report:\", end='')\n",
    "        print(f\"\\tPrecision Score: {precision_score(y_test, pred) * 100:.2f}%\")\n",
    "        print(f\"\\t\\t\\tRecall Score: {recall_score(y_test, pred) * 100:.2f}%\")\n",
    "        print(f\"\\t\\t\\tF1 score: {f1_score(y_test, pred) * 100:.2f}%\")\n",
    "        print(\"_______________________________________________\")\n",
    "        sns.heatmap(confusion_matrix(y_test, pred), annot= True, cmap='YlGnBu',fmt = 'g')\n",
    "        print(classification_report(y_test,pred))\n",
    "        cm=(confusion_matrix(y_test,pred))\n",
    "       # ax.xaxis.set_label_position('top')\n",
    "        plt.tight_layout()\n",
    "        plt.title('Confusion matrix', y = 1.1)\n",
    "        plt.ylabel('Actual label')\n",
    "        plt.xlabel('Predicted label')\n",
    "        plt.show()\n",
    "        total = sum(sum(cm))\n",
    "        acc = (cm[0, 0] + cm[1, 1]) / total\n",
    "        sensitivity = cm[0, 0] / (cm[0, 0] + cm[0, 1])\n",
    "        specificity = cm[1, 1] / (cm[1, 0] + cm[1, 1])\n",
    "       # print(cm)\n",
    "\n",
    "        FP = cm.sum(axis=0) - np.diag(cm)  \n",
    "        FN = cm.sum(axis=1) - np.diag(cm)\n",
    "        TP = np.diag(cm)\n",
    "        TN = cm.sum() - (FP + FN + TP)\n",
    "\n",
    "        FP = FP.astype(float)\n",
    "        FN = FN.astype(float)\n",
    "        TP = TP.astype(float)\n",
    "        TN = TN.astype(float)\n",
    "\n",
    "        # Sensitivity, hit rate, recall, or true positive rate\n",
    "        TPR = TP/(TP+FN)\n",
    "        print('Sensitivity (TPR) : ',TPR)\n",
    "        # Specificity or true negative rate\n",
    "        TNR = TN/(TN+FP) \n",
    "        print('Specificity (TNR) : ',TNR)\n",
    "        # Overall accuracy\n",
    "        print(\" Overall accuracy\")\n",
    "        ACC = (TP+TN)/(TP+FP+FN+TN)\n",
    "        print('Accuracy : ',ACC)\n",
    "        print(\"Accuracy: {:.4f}\".format(acc))\n",
    "        print(\"Average Sensitivity: {:.4f}\".format(sensitivity))\n",
    "        print(\"Average Specificity: {:.4f}\".format(specificity))\n",
    "        print('\\n')\n",
    "        \n",
    "        conf_matrix=cm\n",
    "        print(\"=========================================\")\n",
    "        # save confusion matrix and slice into four pieces\n",
    "        TP = conf_matrix[1][1]\n",
    "        TN = conf_matrix[0][0]\n",
    "        FP = conf_matrix[0][1]\n",
    "        FN = conf_matrix[1][0]\n",
    "        print('True Positives:', TP)\n",
    "        print('True Negatives:', TN)\n",
    "        print('False Positives:', FP)\n",
    "        print('False Negatives:', FN)\n",
    "\n",
    "        # calculate accuracy\n",
    "        conf_accuracy = (float (TP+TN) / float(TP + TN + FP + FN))\n",
    "\n",
    "        # calculate mis-classification\n",
    "        conf_misclassification = 1- conf_accuracy\n",
    "\n",
    "        # calculate the sensitivity\n",
    "        conf_sensitivity = (TP / float(TP + FN))\n",
    "        # calculate the specificity\n",
    "        conf_specificity = (TN / float(TN + FP))\n",
    "\n",
    "        # calculate precision\n",
    "        conf_precision = (TN / float(TN + FP))\n",
    "        # calculate f_1 score\n",
    "        conf_f1 = 2 * ((conf_precision * conf_sensitivity) / (conf_precision + conf_sensitivity))\n",
    "        print('-'*50)\n",
    "        print(f'Accuracy: {round(conf_accuracy,2)}') \n",
    "        print(f'Mis-Classification: {round(conf_misclassification,2)}') \n",
    "        print(f'Sensitivity: {round(conf_sensitivity,2)}') \n",
    "        print(f'Specificity: {round(conf_specificity,2)}') \n",
    "        print(f'Precision: {round(conf_precision,2)}')\n",
    "        print(f'f_1 Score: {round(conf_f1,2)}')\n"
   ]
  },
  {
   "cell_type": "code",
   "execution_count": 26,
   "id": "7b887de2",
   "metadata": {},
   "outputs": [],
   "source": [
    "def plotting(true,pred):\n",
    "    fig,ax=plt.subplots(1,2,figsize=(15,5))\n",
    "    precision,recall,threshold = precision_recall_curve(true,pred[:,1])\n",
    "    ax[0].plot(recall,precision,'g--')\n",
    "    ax[0].set_xlabel('Recall')\n",
    "    ax[0].set_ylabel('Precision')\n",
    "    ax[0].set_title(\"Average Precision Score : {}\".format(average_precision_score(true,pred[:,1])))\n",
    "    fpr,tpr,threshold = roc_curve(true,pred[:,1])\n",
    "    ax[1].plot(fpr,tpr)\n",
    "    ax[1].set_title(\"AUC Score is: {}\".format(auc(fpr,tpr)))\n",
    "    ax[1].plot([0,1],[0,1],'k--')\n",
    "    ax[1].set_xlabel('False Positive Rate')\n",
    "    ax[1].set_ylabel('True Positive Rate')\n"
   ]
  },
  {
   "cell_type": "code",
   "execution_count": 27,
   "id": "1b437e76",
   "metadata": {},
   "outputs": [],
   "source": [
    "#replacing the value with 0,1 \n",
    "\n",
    "data[['htn','dm','cad','pe','ane']] = data[['htn','dm','cad','pe','ane']].replace(to_replace={'yes':1,'no':0})\n",
    "data[['rbc','pc']] = data[['rbc','pc']].replace(to_replace={'abnormal':1,'normal':0})\n",
    "data[['pcc','ba']] = data[['pcc','ba']].replace(to_replace={'present':1,'notpresent':0})\n",
    "data[['appet']] = data[['appet']].replace(to_replace={'good':1,'poor':0,'no':np.nan})\n",
    "data['classification'] = data['classification'].replace(to_replace={'ckd':1.0,'\\t?':1.0,'ckd\\t':1.0,'notckd':0.0,'no':0.0})\n",
    "\n",
    "data.rename(columns={'classification':'class'},inplace=True)\n",
    "\n",
    "data['pe'] = data['pe'].replace(to_replace='good',value=0) \n",
    "data['appet'] = data['appet'].replace(to_replace='no',value=0)\n",
    "data['cad'] = data['cad'].replace(to_replace='\\tno',value=0)\n",
    "data['dm'] = data['dm'].replace(to_replace={'\\tno':0,'\\tyes':1,'\\t?':1.0,' yes':1, '':np.nan})\n",
    "\n",
    "data[['pcv','rc']] = data[['pcv','rc']].replace(to_replace = {'\\t?':1.0})\n",
    "data[['wc']] = data[['wc']].replace(to_replace = {'\\t6200':6200,'\\t8400':8400,'\\t?':1.0})"
   ]
  },
  {
   "cell_type": "markdown",
   "id": "f58522ff",
   "metadata": {},
   "source": [
    "# Random forest classifier"
   ]
  },
  {
   "cell_type": "code",
   "execution_count": 28,
   "id": "bb7b7630",
   "metadata": {},
   "outputs": [],
   "source": [
    "X = data.drop('class', axis=1)\n",
    "y = data[\"class\"]\n",
    "\n",
    "X_train, X_test, y_train, y_test = train_test_split(X, y, test_size=0.7,random_state=100)\n",
    "\n",
    "clf=RandomForestClassifier(n_estimators=10)"
   ]
  },
  {
   "cell_type": "code",
   "execution_count": 29,
   "id": "00a458b2",
   "metadata": {},
   "outputs": [],
   "source": [
    "clf.fit(X_train,y_train)\n",
    "\n",
    "y_pred=clf.predict(X_test)"
   ]
  },
  {
   "cell_type": "code",
   "execution_count": 30,
   "id": "ed20aba8",
   "metadata": {},
   "outputs": [],
   "source": [
    "random_accuracy = metrics.accuracy_score(y_test, y_pred)"
   ]
  },
  {
   "cell_type": "code",
   "execution_count": 31,
   "id": "66bdae03",
   "metadata": {},
   "outputs": [
    {
     "name": "stdout",
     "output_type": "stream",
     "text": [
      "Train Result:\n",
      "================================================\n",
      "Accuracy Score: 100.00%\n",
      "_______________________________________________\n",
      "Classification Report:\tPrecision Score: 100.00%\n",
      "\t\t\tRecall Score: 100.00%\n",
      "\t\t\tF1 score: 100.00%\n",
      "_______________________________________________\n",
      "Confusion Matrix: \n",
      " [[44  0]\n",
      " [ 0 76]]\n",
      "\n",
      "Test Result:\n",
      "================================================\n",
      "Accuracy Score: 97.50%\n",
      "_______________________________________________\n",
      "Classification Report:\tPrecision Score: 98.83%\n",
      "\t\t\tRecall Score: 97.13%\n",
      "\t\t\tF1 score: 97.97%\n",
      "_______________________________________________\n",
      "              precision    recall  f1-score   support\n",
      "\n",
      "         0.0       0.95      0.98      0.97       106\n",
      "         1.0       0.99      0.97      0.98       174\n",
      "\n",
      "    accuracy                           0.97       280\n",
      "   macro avg       0.97      0.98      0.97       280\n",
      "weighted avg       0.98      0.97      0.98       280\n",
      "\n"
     ]
    },
    {
     "data": {
      "image/png": "[encoded data removed]",
      "text/plain": [
       "<Figure size 432x288 with 2 Axes>"
      ]
     },
     "metadata": {},
     "output_type": "display_data"
    },
    {
     "name": "stdout",
     "output_type": "stream",
     "text": [
      "Sensitivity (TPR) :  [0.98113208 0.97126437]\n",
      "Specificity (TNR) :  [0.97126437 0.98113208]\n",
      " Overall accuracy\n",
      "Accuracy :  [0.975 0.975]\n",
      "Accuracy: 0.9750\n",
      "Average Sensitivity: 0.9811\n",
      "Average Specificity: 0.9713\n",
      "\n",
      "\n",
      "=========================================\n",
      "True Positives: 169\n",
      "True Negatives: 104\n",
      "False Positives: 2\n",
      "False Negatives: 5\n",
      "--------------------------------------------------\n",
      "Accuracy: 0.97\n",
      "Mis-Classification: 0.03\n",
      "Sensitivity: 0.97\n",
      "Specificity: 0.98\n",
      "Precision: 0.98\n",
      "f_1 Score: 0.98\n"
     ]
    }
   ],
   "source": [
    "print_score(clf, X_train, y_train, X_test, y_test, train=True)\n",
    "print_score(clf, X_train, y_train, X_test, y_test, train=False)"
   ]
  },
  {
   "cell_type": "markdown",
   "id": "e4766362",
   "metadata": {},
   "source": [
    "# KNN"
   ]
  },
  {
   "cell_type": "code",
   "execution_count": 32,
   "id": "6e80bc55",
   "metadata": {},
   "outputs": [],
   "source": [
    "knn = KNeighborsClassifier()\n",
    "knn.fit(X_train, y_train)\n",
    "\n",
    "pred = knn.predict(X_test)"
   ]
  },
  {
   "cell_type": "code",
   "execution_count": 33,
   "id": "714f8175",
   "metadata": {},
   "outputs": [
    {
     "name": "stdout",
     "output_type": "stream",
     "text": [
      "              precision    recall  f1-score   support\n",
      "\n",
      "         0.0       0.60      0.71      0.65       106\n",
      "         1.0       0.80      0.71      0.75       174\n",
      "\n",
      "    accuracy                           0.71       280\n",
      "   macro avg       0.70      0.71      0.70       280\n",
      "weighted avg       0.72      0.71      0.71       280\n",
      "\n"
     ]
    }
   ],
   "source": [
    "print(classification_report(y_test,pred))\n",
    "\n",
    "knn_classifier = KNeighborsClassifier()\n",
    "knn_classifier.fit(X_train, y_train)\n",
    "\n",
    "knn_acc = accuracy_score( y_test,pred)"
   ]
  },
  {
   "cell_type": "code",
   "execution_count": 34,
   "id": "03b0a873",
   "metadata": {},
   "outputs": [
    {
     "name": "stdout",
     "output_type": "stream",
     "text": [
      "Train Result:\n",
      "================================================\n",
      "Accuracy Score: 83.33%\n",
      "_______________________________________________\n",
      "Classification Report:\tPrecision Score: 91.18%\n",
      "\t\t\tRecall Score: 81.58%\n",
      "\t\t\tF1 score: 86.11%\n",
      "_______________________________________________\n",
      "Confusion Matrix: \n",
      " [[38  6]\n",
      " [14 62]]\n",
      "\n",
      "Test Result:\n",
      "================================================\n",
      "Accuracy Score: 71.07%\n",
      "_______________________________________________\n",
      "Classification Report:\tPrecision Score: 80.00%\n",
      "\t\t\tRecall Score: 71.26%\n",
      "\t\t\tF1 score: 75.38%\n",
      "_______________________________________________\n",
      "              precision    recall  f1-score   support\n",
      "\n",
      "         0.0       0.60      0.71      0.65       106\n",
      "         1.0       0.80      0.71      0.75       174\n",
      "\n",
      "    accuracy                           0.71       280\n",
      "   macro avg       0.70      0.71      0.70       280\n",
      "weighted avg       0.72      0.71      0.71       280\n",
      "\n"
     ]
    },
    {
     "data": {
      "image/png": "[encoded data removed]",
      "text/plain": [
       "<Figure size 432x288 with 2 Axes>"
      ]
     },
     "metadata": {},
     "output_type": "display_data"
    },
    {
     "name": "stdout",
     "output_type": "stream",
     "text": [
      "Sensitivity (TPR) :  [0.70754717 0.71264368]\n",
      "Specificity (TNR) :  [0.71264368 0.70754717]\n",
      " Overall accuracy\n",
      "Accuracy :  [0.71071429 0.71071429]\n",
      "Accuracy: 0.7107\n",
      "Average Sensitivity: 0.7075\n",
      "Average Specificity: 0.7126\n",
      "\n",
      "\n",
      "=========================================\n",
      "True Positives: 124\n",
      "True Negatives: 75\n",
      "False Positives: 31\n",
      "False Negatives: 50\n",
      "--------------------------------------------------\n",
      "Accuracy: 0.71\n",
      "Mis-Classification: 0.29\n",
      "Sensitivity: 0.71\n",
      "Specificity: 0.71\n",
      "Precision: 0.71\n",
      "f_1 Score: 0.71\n"
     ]
    }
   ],
   "source": [
    "print_score(knn_classifier, X_train, y_train, X_test, y_test, train=True)\n",
    "print_score(knn_classifier, X_train, y_train, X_test, y_test, train=False)"
   ]
  },
  {
   "cell_type": "markdown",
   "id": "6d113135",
   "metadata": {},
   "source": [
    "# Decision Tree Classifier"
   ]
  },
  {
   "cell_type": "code",
   "execution_count": 35,
   "id": "4ae22b6b",
   "metadata": {},
   "outputs": [
    {
     "data": {
      "text/plain": [
       "DecisionTreeClassifier(random_state=100)"
      ]
     },
     "execution_count": 35,
     "metadata": {},
     "output_type": "execute_result"
    }
   ],
   "source": [
    "tree = DecisionTreeClassifier(random_state=100)\n",
    "tree.fit(X_train, y_train)"
   ]
  },
  {
   "cell_type": "code",
   "execution_count": 36,
   "id": "079e2ae4",
   "metadata": {},
   "outputs": [],
   "source": [
    "dtc_acc = accuracy_score(y_test, tree.predict(X_test))"
   ]
  },
  {
   "cell_type": "code",
   "execution_count": 37,
   "id": "7fa44f68",
   "metadata": {},
   "outputs": [
    {
     "name": "stdout",
     "output_type": "stream",
     "text": [
      "Train Result:\n",
      "================================================\n",
      "Accuracy Score: 100.00%\n",
      "_______________________________________________\n",
      "Classification Report:\tPrecision Score: 100.00%\n",
      "\t\t\tRecall Score: 100.00%\n",
      "\t\t\tF1 score: 100.00%\n",
      "_______________________________________________\n",
      "Confusion Matrix: \n",
      " [[44  0]\n",
      " [ 0 76]]\n",
      "\n",
      "Test Result:\n",
      "================================================\n",
      "Accuracy Score: 91.79%\n",
      "_______________________________________________\n",
      "Classification Report:\tPrecision Score: 90.81%\n",
      "\t\t\tRecall Score: 96.55%\n",
      "\t\t\tF1 score: 93.59%\n",
      "_______________________________________________\n",
      "              precision    recall  f1-score   support\n",
      "\n",
      "         0.0       0.94      0.84      0.89       106\n",
      "         1.0       0.91      0.97      0.94       174\n",
      "\n",
      "    accuracy                           0.92       280\n",
      "   macro avg       0.92      0.90      0.91       280\n",
      "weighted avg       0.92      0.92      0.92       280\n",
      "\n"
     ]
    },
    {
     "data": {
      "image/png": "[encoded data removed]",
      "text/plain": [
       "<Figure size 432x288 with 2 Axes>"
      ]
     },
     "metadata": {},
     "output_type": "display_data"
    },
    {
     "name": "stdout",
     "output_type": "stream",
     "text": [
      "Sensitivity (TPR) :  [0.83962264 0.96551724]\n",
      "Specificity (TNR) :  [0.96551724 0.83962264]\n",
      " Overall accuracy\n",
      "Accuracy :  [0.91785714 0.91785714]\n",
      "Accuracy: 0.9179\n",
      "Average Sensitivity: 0.8396\n",
      "Average Specificity: 0.9655\n",
      "\n",
      "\n",
      "=========================================\n",
      "True Positives: 168\n",
      "True Negatives: 89\n",
      "False Positives: 17\n",
      "False Negatives: 6\n",
      "--------------------------------------------------\n",
      "Accuracy: 0.92\n",
      "Mis-Classification: 0.08\n",
      "Sensitivity: 0.97\n",
      "Specificity: 0.84\n",
      "Precision: 0.84\n",
      "f_1 Score: 0.9\n"
     ]
    }
   ],
   "source": [
    "print_score(tree, X_train, y_train, X_test, y_test, train=True)\n",
    "print_score(tree, X_train, y_train, X_test, y_test, train=False)"
   ]
  },
  {
   "cell_type": "markdown",
   "id": "1d831ad8",
   "metadata": {},
   "source": [
    "# SVM"
   ]
  },
  {
   "cell_type": "code",
   "execution_count": 38,
   "id": "553d5444",
   "metadata": {},
   "outputs": [
    {
     "data": {
      "text/plain": [
       "SVC(gamma=0.1, probability=True)"
      ]
     },
     "execution_count": 38,
     "metadata": {},
     "output_type": "execute_result"
    }
   ],
   "source": [
    "svm_model = SVC(kernel='rbf', gamma=0.1, probability=True)\n",
    "svm_model.fit(X_train, y_train)"
   ]
  },
  {
   "cell_type": "code",
   "execution_count": 39,
   "id": "68baf1b4",
   "metadata": {},
   "outputs": [],
   "source": [
    "sev_pred = accuracy_score(y_test, svm_model.predict(X_test))"
   ]
  },
  {
   "cell_type": "code",
   "execution_count": 40,
   "id": "8347d19e",
   "metadata": {},
   "outputs": [
    {
     "name": "stdout",
     "output_type": "stream",
     "text": [
      "Train Result:\n",
      "================================================\n",
      "Accuracy Score: 100.00%\n",
      "_______________________________________________\n",
      "Classification Report:\tPrecision Score: 100.00%\n",
      "\t\t\tRecall Score: 100.00%\n",
      "\t\t\tF1 score: 100.00%\n",
      "_______________________________________________\n",
      "Confusion Matrix: \n",
      " [[44  0]\n",
      " [ 0 76]]\n",
      "\n",
      "Test Result:\n",
      "================================================\n",
      "Accuracy Score: 62.14%\n",
      "_______________________________________________\n",
      "Classification Report:\tPrecision Score: 62.14%\n",
      "\t\t\tRecall Score: 100.00%\n",
      "\t\t\tF1 score: 76.65%\n",
      "_______________________________________________\n"
     ]
    },
    {
     "name": "stderr",
     "output_type": "stream",
     "text": [
      "C:\\Users\\DELL\\anaconda3\\lib\\site-packages\\sklearn\\metrics\\_classification.py:1245: UndefinedMetricWarning: Precision and F-score are ill-defined and being set to 0.0 in labels with no predicted samples. Use `zero_division` parameter to control this behavior.\n",
      "  _warn_prf(average, modifier, msg_start, len(result))\n",
      "C:\\Users\\DELL\\anaconda3\\lib\\site-packages\\sklearn\\metrics\\_classification.py:1245: UndefinedMetricWarning: Precision and F-score are ill-defined and being set to 0.0 in labels with no predicted samples. Use `zero_division` parameter to control this behavior.\n",
      "  _warn_prf(average, modifier, msg_start, len(result))\n",
      "C:\\Users\\DELL\\anaconda3\\lib\\site-packages\\sklearn\\metrics\\_classification.py:1245: UndefinedMetricWarning: Precision and F-score are ill-defined and being set to 0.0 in labels with no predicted samples. Use `zero_division` parameter to control this behavior.\n",
      "  _warn_prf(average, modifier, msg_start, len(result))\n"
     ]
    },
    {
     "name": "stdout",
     "output_type": "stream",
     "text": [
      "              precision    recall  f1-score   support\n",
      "\n",
      "         0.0       0.00      0.00      0.00       106\n",
      "         1.0       0.62      1.00      0.77       174\n",
      "\n",
      "    accuracy                           0.62       280\n",
      "   macro avg       0.31      0.50      0.38       280\n",
      "weighted avg       0.39      0.62      0.48       280\n",
      "\n"
     ]
    },
    {
     "data": {
      "image/png": "[encoded data removed]",
      "text/plain": [
       "<Figure size 432x288 with 2 Axes>"
      ]
     },
     "metadata": {},
     "output_type": "display_data"
    },
    {
     "name": "stdout",
     "output_type": "stream",
     "text": [
      "Sensitivity (TPR) :  [0. 1.]\n",
      "Specificity (TNR) :  [1. 0.]\n",
      " Overall accuracy\n",
      "Accuracy :  [0.62142857 0.62142857]\n",
      "Accuracy: 0.6214\n",
      "Average Sensitivity: 0.0000\n",
      "Average Specificity: 1.0000\n",
      "\n",
      "\n",
      "=========================================\n",
      "True Positives: 174\n",
      "True Negatives: 0\n",
      "False Positives: 106\n",
      "False Negatives: 0\n",
      "--------------------------------------------------\n",
      "Accuracy: 0.62\n",
      "Mis-Classification: 0.38\n",
      "Sensitivity: 1.0\n",
      "Specificity: 0.0\n",
      "Precision: 0.0\n",
      "f_1 Score: 0.0\n"
     ]
    }
   ],
   "source": [
    "print_score(svm_model, X_train, y_train, X_test, y_test, train=True)\n",
    "print_score(svm_model, X_train, y_train, X_test, y_test, train=False)"
   ]
  },
  {
   "cell_type": "markdown",
   "id": "94d8d719",
   "metadata": {},
   "source": [
    "# MLPClassifier"
   ]
  },
  {
   "cell_type": "code",
   "execution_count": 41,
   "id": "d3755202",
   "metadata": {
    "scrolled": true
   },
   "outputs": [],
   "source": [
    "NN=MLPClassifier(hidden_layer_sizes=(10,50),momentum=0.9,solver='sgd',random_state=100)\n",
    "               \n",
    "NN.fit(X_train, y_train)\n",
    "\n",
    "mlp_pred = accuracy_score(y_test, NN.predict(X_test))\n",
    "\n",
    "\n"
   ]
  },
  {
   "cell_type": "code",
   "execution_count": 42,
   "id": "7fe041d4",
   "metadata": {},
   "outputs": [
    {
     "name": "stdout",
     "output_type": "stream",
     "text": [
      "Train Result:\n",
      "================================================\n",
      "Accuracy Score: 63.33%\n",
      "_______________________________________________\n",
      "Classification Report:\tPrecision Score: 63.33%\n",
      "\t\t\tRecall Score: 100.00%\n",
      "\t\t\tF1 score: 77.55%\n",
      "_______________________________________________\n",
      "Confusion Matrix: \n",
      " [[ 0 44]\n",
      " [ 0 76]]\n",
      "\n",
      "Test Result:\n",
      "================================================\n",
      "Accuracy Score: 62.14%\n",
      "_______________________________________________\n",
      "Classification Report:\tPrecision Score: 62.14%\n",
      "\t\t\tRecall Score: 100.00%\n",
      "\t\t\tF1 score: 76.65%\n",
      "_______________________________________________\n"
     ]
    },
    {
     "name": "stderr",
     "output_type": "stream",
     "text": [
      "C:\\Users\\DELL\\anaconda3\\lib\\site-packages\\sklearn\\metrics\\_classification.py:1245: UndefinedMetricWarning: Precision and F-score are ill-defined and being set to 0.0 in labels with no predicted samples. Use `zero_division` parameter to control this behavior.\n",
      "  _warn_prf(average, modifier, msg_start, len(result))\n",
      "C:\\Users\\DELL\\anaconda3\\lib\\site-packages\\sklearn\\metrics\\_classification.py:1245: UndefinedMetricWarning: Precision and F-score are ill-defined and being set to 0.0 in labels with no predicted samples. Use `zero_division` parameter to control this behavior.\n",
      "  _warn_prf(average, modifier, msg_start, len(result))\n",
      "C:\\Users\\DELL\\anaconda3\\lib\\site-packages\\sklearn\\metrics\\_classification.py:1245: UndefinedMetricWarning: Precision and F-score are ill-defined and being set to 0.0 in labels with no predicted samples. Use `zero_division` parameter to control this behavior.\n",
      "  _warn_prf(average, modifier, msg_start, len(result))\n"
     ]
    },
    {
     "name": "stdout",
     "output_type": "stream",
     "text": [
      "              precision    recall  f1-score   support\n",
      "\n",
      "         0.0       0.00      0.00      0.00       106\n",
      "         1.0       0.62      1.00      0.77       174\n",
      "\n",
      "    accuracy                           0.62       280\n",
      "   macro avg       0.31      0.50      0.38       280\n",
      "weighted avg       0.39      0.62      0.48       280\n",
      "\n"
     ]
    },
    {
     "data": {
      "image/png": "[encoded data removed]",
      "text/plain": [
       "<Figure size 432x288 with 2 Axes>"
      ]
     },
     "metadata": {},
     "output_type": "display_data"
    },
    {
     "name": "stdout",
     "output_type": "stream",
     "text": [
      "Sensitivity (TPR) :  [0. 1.]\n",
      "Specificity (TNR) :  [1. 0.]\n",
      " Overall accuracy\n",
      "Accuracy :  [0.62142857 0.62142857]\n",
      "Accuracy: 0.6214\n",
      "Average Sensitivity: 0.0000\n",
      "Average Specificity: 1.0000\n",
      "\n",
      "\n",
      "=========================================\n",
      "True Positives: 174\n",
      "True Negatives: 0\n",
      "False Positives: 106\n",
      "False Negatives: 0\n",
      "--------------------------------------------------\n",
      "Accuracy: 0.62\n",
      "Mis-Classification: 0.38\n",
      "Sensitivity: 1.0\n",
      "Specificity: 0.0\n",
      "Precision: 0.0\n",
      "f_1 Score: 0.0\n"
     ]
    }
   ],
   "source": [
    "print_score(NN, X_train, y_train, X_test, y_test, train=True)\n",
    "print_score(NN, X_train, y_train, X_test, y_test, train=False)"
   ]
  },
  {
   "cell_type": "markdown",
   "id": "359dedf4",
   "metadata": {},
   "source": [
    "## list of each model with there respective accuracy score "
   ]
  },
  {
   "cell_type": "code",
   "execution_count": 43,
   "id": "c0504435",
   "metadata": {
    "scrolled": true
   },
   "outputs": [
    {
     "data": {
      "text/html": [
       "<div>\n",
       "<style scoped>\n",
       "    .dataframe tbody tr th:only-of-type {\n",
       "        vertical-align: middle;\n",
       "    }\n",
       "\n",
       "    .dataframe tbody tr th {\n",
       "        vertical-align: top;\n",
       "    }\n",
       "\n",
       "    .dataframe thead th {\n",
       "        text-align: right;\n",
       "    }\n",
       "</style>\n",
       "<table border=\"1\" class=\"dataframe\">\n",
       "  <thead>\n",
       "    <tr style=\"text-align: right;\">\n",
       "      <th></th>\n",
       "      <th>Model</th>\n",
       "      <th>Score</th>\n",
       "    </tr>\n",
       "  </thead>\n",
       "  <tbody>\n",
       "    <tr>\n",
       "      <th>0</th>\n",
       "      <td>Random Forest Model</td>\n",
       "      <td>0.975000</td>\n",
       "    </tr>\n",
       "    <tr>\n",
       "      <th>2</th>\n",
       "      <td>Decision Tree Classifier</td>\n",
       "      <td>0.917857</td>\n",
       "    </tr>\n",
       "    <tr>\n",
       "      <th>1</th>\n",
       "      <td>KNN</td>\n",
       "      <td>0.710714</td>\n",
       "    </tr>\n",
       "    <tr>\n",
       "      <th>3</th>\n",
       "      <td>SVM</td>\n",
       "      <td>0.621429</td>\n",
       "    </tr>\n",
       "    <tr>\n",
       "      <th>4</th>\n",
       "      <td>MLP</td>\n",
       "      <td>0.621429</td>\n",
       "    </tr>\n",
       "  </tbody>\n",
       "</table>\n",
       "</div>"
      ],
      "text/plain": [
       "                      Model     Score\n",
       "0       Random Forest Model  0.975000\n",
       "2  Decision Tree Classifier  0.917857\n",
       "1                       KNN  0.710714\n",
       "3                       SVM  0.621429\n",
       "4                       MLP  0.621429"
      ]
     },
     "execution_count": 43,
     "metadata": {},
     "output_type": "execute_result"
    }
   ],
   "source": [
    "models = pd.DataFrame({'Model' : [ 'Random Forest Model', 'KNN','Decision Tree Classifier','SVM', 'MLP'],\n",
    "                       'Score' : [ random_accuracy,knn_acc,dtc_acc,sev_pred,mlp_pred]})\n",
    "\n",
    "models.sort_values(by = 'Score', ascending = False)"
   ]
  },
  {
   "cell_type": "markdown",
   "id": "32c5fe25",
   "metadata": {},
   "source": [
    "### finalizing the random forest model"
   ]
  },
  {
   "cell_type": "code",
   "execution_count": 44,
   "id": "f45c8a94",
   "metadata": {},
   "outputs": [],
   "source": [
    "import pickle\n",
    "filename = 'final_model.pkl'\n",
    "pickle.dump(clf, open(filename, 'wb'))"
   ]
  },
  {
   "cell_type": "markdown",
   "id": "769df24b",
   "metadata": {},
   "source": [
    "### Testing the model with demo data "
   ]
  },
  {
   "cell_type": "code",
   "execution_count": 45,
   "id": "8cc4ae2b",
   "metadata": {},
   "outputs": [],
   "source": [
    "dt = {'age':[50], 'bp':[90], 'sg':[1.03], 'al':[4], 'rbc':[0], 'su':[2], 'pc':[0], 'pcc':[1], 'ba':[0], 'bgr':[106], 'bu':[56],\n",
    "       'sc':[2.7], 'sod':[142], 'pot':[3.4], 'hemo':[10.8], 'pcv':[16], 'wc':[9600], 'rc':[3.8], 'htn':[1], 'dm':[0], 'cad':[0],\n",
    "       'appet':[1], 'pe':[1], 'ane':[0]}\n",
    "\n",
    "data_preds = pd.DataFrame(dt)"
   ]
  },
  {
   "cell_type": "code",
   "execution_count": 46,
   "id": "40cd1c60",
   "metadata": {},
   "outputs": [
    {
     "data": {
      "text/html": [
       "<div>\n",
       "<style scoped>\n",
       "    .dataframe tbody tr th:only-of-type {\n",
       "        vertical-align: middle;\n",
       "    }\n",
       "\n",
       "    .dataframe tbody tr th {\n",
       "        vertical-align: top;\n",
       "    }\n",
       "\n",
       "    .dataframe thead th {\n",
       "        text-align: right;\n",
       "    }\n",
       "</style>\n",
       "<table border=\"1\" class=\"dataframe\">\n",
       "  <thead>\n",
       "    <tr style=\"text-align: right;\">\n",
       "      <th></th>\n",
       "      <th>age</th>\n",
       "      <th>bp</th>\n",
       "      <th>sg</th>\n",
       "      <th>al</th>\n",
       "      <th>rbc</th>\n",
       "      <th>su</th>\n",
       "      <th>pc</th>\n",
       "      <th>pcc</th>\n",
       "      <th>ba</th>\n",
       "      <th>bgr</th>\n",
       "      <th>...</th>\n",
       "      <th>hemo</th>\n",
       "      <th>pcv</th>\n",
       "      <th>wc</th>\n",
       "      <th>rc</th>\n",
       "      <th>htn</th>\n",
       "      <th>dm</th>\n",
       "      <th>cad</th>\n",
       "      <th>appet</th>\n",
       "      <th>pe</th>\n",
       "      <th>ane</th>\n",
       "    </tr>\n",
       "  </thead>\n",
       "  <tbody>\n",
       "    <tr>\n",
       "      <th>0</th>\n",
       "      <td>50</td>\n",
       "      <td>90</td>\n",
       "      <td>1.03</td>\n",
       "      <td>4</td>\n",
       "      <td>0</td>\n",
       "      <td>2</td>\n",
       "      <td>0</td>\n",
       "      <td>1</td>\n",
       "      <td>0</td>\n",
       "      <td>106</td>\n",
       "      <td>...</td>\n",
       "      <td>10.8</td>\n",
       "      <td>16</td>\n",
       "      <td>9600</td>\n",
       "      <td>3.8</td>\n",
       "      <td>1</td>\n",
       "      <td>0</td>\n",
       "      <td>0</td>\n",
       "      <td>1</td>\n",
       "      <td>1</td>\n",
       "      <td>0</td>\n",
       "    </tr>\n",
       "  </tbody>\n",
       "</table>\n",
       "<p>1 rows × 24 columns</p>\n",
       "</div>"
      ],
      "text/plain": [
       "   age  bp    sg  al  rbc  su  pc  pcc  ba  bgr  ...  hemo  pcv    wc   rc  \\\n",
       "0   50  90  1.03   4    0   2   0    1   0  106  ...  10.8   16  9600  3.8   \n",
       "\n",
       "   htn  dm  cad  appet  pe  ane  \n",
       "0    1   0    0      1   1    0  \n",
       "\n",
       "[1 rows x 24 columns]"
      ]
     },
     "execution_count": 46,
     "metadata": {},
     "output_type": "execute_result"
    }
   ],
   "source": [
    "data_preds.head()"
   ]
  },
  {
   "cell_type": "code",
   "execution_count": 47,
   "id": "0ea1fba2",
   "metadata": {},
   "outputs": [],
   "source": [
    "y_pred=clf.predict(data_preds)"
   ]
  },
  {
   "cell_type": "code",
   "execution_count": 48,
   "id": "644b86a9",
   "metadata": {},
   "outputs": [
    {
     "data": {
      "text/plain": [
       "'risk'"
      ]
     },
     "execution_count": 48,
     "metadata": {},
     "output_type": "execute_result"
    }
   ],
   "source": [
    "label = {0:\"no risk\",1:\"risk\"}\n",
    "label[y_pred[0]]"
   ]
  }
 ],
 "metadata": {
  "kernelspec": {
   "display_name": "Python 3",
   "language": "python",
   "name": "python3"
  },
  "language_info": {
   "codemirror_mode": {
    "name": "ipython",
    "version": 3
   },
   "file_extension": ".py",
   "mimetype": "text/x-python",
   "name": "python",
   "nbconvert_exporter": "python",
   "pygments_lexer": "ipython3",
   "version": "3.8.8"
  }
 },
 "nbformat": 4,
 "nbformat_minor": 5
}
